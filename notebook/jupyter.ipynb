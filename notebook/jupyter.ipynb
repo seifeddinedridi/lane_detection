{
 "cells": [
  {
   "cell_type": "code",
   "id": "initial_id",
   "metadata": {
    "collapsed": true,
    "ExecuteTime": {
     "end_time": "2024-04-27T07:26:49.369257Z",
     "start_time": "2024-04-27T07:26:48.355592Z"
    }
   },
   "source": "%pip install -i https://test.pypi.org/simple/ enet-seifeddine-dridi",
   "outputs": [
    {
     "name": "stdout",
     "output_type": "stream",
     "text": [
      "Looking in indexes: https://test.pypi.org/simple/\r\n",
      "Requirement already satisfied: enet-seifeddine-dridi in /Users/seifeddine/Programming/Personal/lane_detection (0.0.18)\r\n",
      "Note: you may need to restart the kernel to use updated packages.\n"
     ]
    }
   ],
   "execution_count": 1
  },
  {
   "metadata": {},
   "cell_type": "markdown",
   "source": "Setup the project configuration",
   "id": "24e2f4426b99e20e"
  },
  {
   "metadata": {
    "ExecuteTime": {
     "end_time": "2024-04-27T07:26:53.059937Z",
     "start_time": "2024-04-27T07:26:51.236845Z"
    }
   },
   "cell_type": "code",
   "source": [
    "from time import time\n",
    "\n",
    "import torch\n",
    "from tqdm import tqdm\n",
    "from lanenet.enet.config import EnetConfig\n",
    "from lanenet.enet.model_utils import load_model, eval_model, compute_loss"
   ],
   "id": "61d076cddb1ad602",
   "outputs": [],
   "execution_count": 2
  },
  {
   "metadata": {
    "ExecuteTime": {
     "end_time": "2024-04-27T07:27:04.627765Z",
     "start_time": "2024-04-27T07:26:56.341531Z"
    }
   },
   "cell_type": "code",
   "source": [
    "#pretrained_model_path = 'pretrained_model/enet_model_894.pt'\n",
    "pretrained_model_path = None\n",
    "config = EnetConfig(pretrained_model_path=pretrained_model_path, train_full_model=False, max_epoch=1000, dataset_root_folder='../datasets/cityscapes/data_unzipped')\n",
    "device = torch.device('cuda:0') if torch.cuda.is_available() else torch.device('cpu')\n",
    "torch.multiprocessing.set_start_method('spawn')\n",
    "torch.set_flush_denormal(True)\n",
    "model, optimizer, train_dataset, test_dataset = load_model(config, device)\n",
    "train_dataset_iter = iter(train_dataset)\n",
    "test_dataset_iter = iter(test_dataset)\n",
    "\n",
    "last_checkpoint_saving_time = time()\n",
    "saving_period = 2 * 60  # 2 minutes\n",
    "best_eval_loss = float('inf')"
   ],
   "id": "e472a0117e89a51",
   "outputs": [],
   "execution_count": 3
  },
  {
   "metadata": {
    "ExecuteTime": {
     "end_time": "2024-04-27T07:55:30.715762Z",
     "start_time": "2024-04-27T07:27:23.638036Z"
    }
   },
   "cell_type": "code",
   "source": [
    "bar_format = '{l_bar}{bar}| {n_fmt}/{total_fmt} [{elapsed}<{remaining}, ''{rate_noinv_fmt}{postfix}]'\n",
    "progress_bar = tqdm(range(0, config.max_epoch), bar_format=bar_format)\n",
    "for epoch in progress_bar:\n",
    "    try:\n",
    "        in_tensor, target = next(train_dataset_iter)\n",
    "    except StopIteration:\n",
    "        # Iterator is exhausted\n",
    "        train_dataset_iter = iter(train_dataset)\n",
    "        in_tensor, target = next(train_dataset_iter)\n",
    "    in_tensor = in_tensor.to(device)\n",
    "    target = target.to(device)\n",
    "    logits = model(in_tensor)\n",
    "    loss = compute_loss(logits, target, config.custom_weight_scaling_const, config.scaling_props_range)\n",
    "    optimizer.zero_grad()\n",
    "    loss.backward()\n",
    "    optimizer.step()\n",
    "    progress_bar.set_description(f\"Epoch [{epoch}/{config.max_epoch}]\")\n",
    "    progress_bar.set_postfix(loss=loss.item())\n",
    "    if time() - last_checkpoint_saving_time >= saving_period:\n",
    "        last_checkpoint_saving_time = time()\n",
    "        try:\n",
    "            eval_loss = eval_model(model, test_dataset_iter, config.custom_weight_scaling_const,\n",
    "                                   config.scaling_props_range, device)\n",
    "        except StopIteration:\n",
    "            # Iterator is exhausted\n",
    "            test_dataset_iter = iter(test_dataset)\n",
    "            eval_loss = eval_model(model, test_dataset_iter, config.custom_weight_scaling_const,\n",
    "                                   config.scaling_props_range, device)\n",
    "        if eval_loss < best_eval_loss:\n",
    "            config.save_checkpoint(model, optimizer, loss, epoch, '../')\n",
    "            best_eval_loss = eval_loss"
   ],
   "id": "41e08252b7a149e0",
   "outputs": [
    {
     "name": "stderr",
     "output_type": "stream",
     "text": [
      "Epoch [71/1000]:   7%|▋         | 72/1000 [01:45<42:47,  0.36it/s, loss=1.87]"
     ]
    },
    {
     "name": "stdout",
     "output_type": "stream",
     "text": [
      "\n",
      "Evaluation Loss=1.9080379128456115\n",
      "Epoch=72/1000, Loss=1.8723981380462646\n",
      "Saving training checkpoint as ../pretrained_model/enet_model_encoder_71.pt at 2024-04-27 09:29:09.462121\n"
     ]
    },
    {
     "name": "stderr",
     "output_type": "stream",
     "text": [
      "Epoch [150/1000]:  15%|█▌        | 151/1000 [03:46<40:52,  0.35it/s, loss=2.08]"
     ]
    },
    {
     "name": "stdout",
     "output_type": "stream",
     "text": [
      "\n",
      "Evaluation Loss=1.9842722415924072\n"
     ]
    },
    {
     "name": "stderr",
     "output_type": "stream",
     "text": [
      "Epoch [226/1000]:  23%|██▎       | 227/1000 [05:47<39:08,  0.33it/s, loss=1.66]"
     ]
    },
    {
     "name": "stdout",
     "output_type": "stream",
     "text": [
      "\n",
      "Evaluation Loss=1.9562002062797545\n"
     ]
    },
    {
     "name": "stderr",
     "output_type": "stream",
     "text": [
      "Epoch [298/1000]:  30%|██▉       | 299/1000 [08:11<2:35:25,  0.08it/s, loss=1.61]"
     ]
    },
    {
     "name": "stdout",
     "output_type": "stream",
     "text": [
      "\n",
      "Evaluation Loss=2.0660709023475645\n"
     ]
    },
    {
     "name": "stderr",
     "output_type": "stream",
     "text": [
      "Epoch [374/1000]:  38%|███▊      | 375/1000 [10:10<27:31,  0.38it/s, loss=1.57]  "
     ]
    },
    {
     "name": "stdout",
     "output_type": "stream",
     "text": [
      "\n",
      "Evaluation Loss=2.2426366567611695\n"
     ]
    },
    {
     "name": "stderr",
     "output_type": "stream",
     "text": [
      "Epoch [454/1000]:  46%|████▌     | 455/1000 [12:41<1:48:02,  0.08it/s, loss=1.87]"
     ]
    },
    {
     "name": "stdout",
     "output_type": "stream",
     "text": [
      "\n",
      "Evaluation Loss=1.934667944908142\n"
     ]
    },
    {
     "name": "stderr",
     "output_type": "stream",
     "text": [
      "Epoch [514/1000]:  52%|█████▏    | 515/1000 [14:13<25:07,  0.32it/s, loss=2.05]  "
     ]
    },
    {
     "name": "stdout",
     "output_type": "stream",
     "text": [
      "\n",
      "Evaluation Loss=1.9338015079498292\n"
     ]
    },
    {
     "name": "stderr",
     "output_type": "stream",
     "text": [
      "Epoch [593/1000]:  59%|█████▉    | 594/1000 [16:13<20:13,  0.33it/s, loss=1.62]"
     ]
    },
    {
     "name": "stdout",
     "output_type": "stream",
     "text": [
      "\n",
      "Evaluation Loss=2.0330863118171694\n"
     ]
    },
    {
     "name": "stderr",
     "output_type": "stream",
     "text": [
      "Epoch [646/1000]:  65%|██████▍   | 647/1000 [18:14<17:41,  0.33it/s, loss=1.77]  "
     ]
    },
    {
     "name": "stdout",
     "output_type": "stream",
     "text": [
      "\n",
      "Evaluation Loss=2.0961544513702393\n"
     ]
    },
    {
     "name": "stderr",
     "output_type": "stream",
     "text": [
      "Epoch [724/1000]:  72%|███████▎  | 725/1000 [20:13<12:28,  0.37it/s, loss=1.57]"
     ]
    },
    {
     "name": "stdout",
     "output_type": "stream",
     "text": [
      "\n",
      "Evaluation Loss=2.134269678592682\n"
     ]
    },
    {
     "name": "stderr",
     "output_type": "stream",
     "text": [
      "Epoch [804/1000]:  80%|████████  | 805/1000 [22:45<38:32,  0.08it/s, loss=1.84]"
     ]
    },
    {
     "name": "stdout",
     "output_type": "stream",
     "text": [
      "\n",
      "Evaluation Loss=2.200441861152649\n"
     ]
    },
    {
     "name": "stderr",
     "output_type": "stream",
     "text": [
      "Epoch [865/1000]:  87%|████████▋ | 866/1000 [24:15<06:27,  0.35it/s, loss=1.52]"
     ]
    },
    {
     "name": "stdout",
     "output_type": "stream",
     "text": [
      "\n",
      "Evaluation Loss=1.7057139873504639\n",
      "Epoch=866/1000, Loss=1.521970510482788\n",
      "Saving training checkpoint as ../pretrained_model/enet_model_encoder_865.pt at 2024-04-27 09:51:39.467080\n"
     ]
    },
    {
     "name": "stderr",
     "output_type": "stream",
     "text": [
      "Epoch [923/1000]:  92%|█████████▏| 924/1000 [26:16<03:34,  0.35it/s, loss=1.73]"
     ]
    },
    {
     "name": "stdout",
     "output_type": "stream",
     "text": [
      "\n",
      "Evaluation Loss=2.4688814520835876\n"
     ]
    },
    {
     "name": "stderr",
     "output_type": "stream",
     "text": [
      "Epoch [999/1000]: 100%|██████████| 1000/1000 [28:07<00:00,  0.59it/s, loss=1.46]\n"
     ]
    }
   ],
   "execution_count": 4
  }
 ],
 "metadata": {
  "kernelspec": {
   "display_name": "Python 3",
   "language": "python",
   "name": "python3"
  },
  "language_info": {
   "codemirror_mode": {
    "name": "ipython",
    "version": 2
   },
   "file_extension": ".py",
   "mimetype": "text/x-python",
   "name": "python",
   "nbconvert_exporter": "python",
   "pygments_lexer": "ipython2",
   "version": "2.7.6"
  }
 },
 "nbformat": 4,
 "nbformat_minor": 5
}
