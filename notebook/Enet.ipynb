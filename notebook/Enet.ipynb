{
 "cells": [
  {
   "cell_type": "code",
   "execution_count": 1,
   "id": "1dfa7399-c196-49fe-8407-d58ac951bb04",
   "metadata": {},
   "outputs": [
    {
     "name": "stdout",
     "output_type": "stream",
     "text": [
      "Looking in indexes: https://download.pytorch.org/whl/cu118, https://test.pypi.org/simple/, https://pypi.org/simple/\n",
      "Requirement already satisfied: tqdm in ./venv/lib/python3.9/site-packages (4.66.2)\n",
      "Requirement already satisfied: torch in ./venv/lib/python3.9/site-packages (2.2.2)\n",
      "Requirement already satisfied: torchvision in ./venv/lib/python3.9/site-packages (0.17.2)\n",
      "Requirement already satisfied: enet-seifeddine-dridi in ./venv/lib/python3.9/site-packages (0.0.18)\n",
      "Requirement already satisfied: filelock in ./venv/lib/python3.9/site-packages (from torch) (3.13.3)\n",
      "Requirement already satisfied: typing-extensions>=4.8.0 in ./venv/lib/python3.9/site-packages (from torch) (4.10.0)\n",
      "Requirement already satisfied: sympy in ./venv/lib/python3.9/site-packages (from torch) (1.12)\n",
      "Requirement already satisfied: networkx in ./venv/lib/python3.9/site-packages (from torch) (3.2.1)\n",
      "Requirement already satisfied: jinja2 in ./venv/lib/python3.9/site-packages (from torch) (3.1.3)\n",
      "Requirement already satisfied: fsspec in ./venv/lib/python3.9/site-packages (from torch) (2024.3.1)\n",
      "Requirement already satisfied: numpy in ./venv/lib/python3.9/site-packages (from torchvision) (1.26.4)\n",
      "Requirement already satisfied: pillow!=8.3.*,>=5.3.0 in ./venv/lib/python3.9/site-packages (from torchvision) (10.2.0)\n",
      "Requirement already satisfied: MarkupSafe>=2.0 in ./venv/lib/python3.9/site-packages (from jinja2->torch) (2.1.5)\n",
      "Requirement already satisfied: mpmath>=0.19 in ./venv/lib/python3.9/site-packages (from sympy->torch) (1.3.0)\n"
     ]
    }
   ],
   "source": [
    "!pip3 install tqdm torch torchvision enet-seifeddine-dridi --index-url https://download.pytorch.org/whl/cu118 --extra-index-url https://test.pypi.org/simple/ --extra-index-url https://pypi.org/simple/"
   ]
  },
  {
   "cell_type": "code",
   "execution_count": 2,
   "id": "025bdda7-34f4-473b-b6d4-8cec963217be",
   "metadata": {},
   "outputs": [],
   "source": [
    "from time import time\n",
    "\n",
    "import torch\n",
    "from tqdm import tqdm\n",
    "from lanenet.enet.config import EnetConfig\n",
    "from lanenet.enet.model_utils import load_model, eval_model, compute_loss, segment_image"
   ]
  },
  {
   "cell_type": "code",
   "execution_count": 3,
   "id": "9afcaf79-36f1-4111-9143-65ae8543aa42",
   "metadata": {},
   "outputs": [
    {
     "name": "stdout",
     "output_type": "stream",
     "text": [
      "Checkpoint file pretrained_model/enet_model_2116.pt successfully loaded\n"
     ]
    }
   ],
   "source": [
    "pretrained_model_path = 'pretrained_model/enet_model_2116.pt'\n",
    "# pretrained_model_path = None\n",
    "config = EnetConfig(pretrained_model_path=pretrained_model_path, train_full_model=True, max_epoch=1, dataset_root_folder='datasets/cityscapes/data_unzipped')\n",
    "device = torch.device('cuda:0') if torch.cuda.is_available() else torch.device('cpu')\n",
    "torch.multiprocessing.set_start_method('spawn')\n",
    "torch.set_flush_denormal(True)\n",
    "model, optimizer, train_dataset, test_dataset = load_model(config, device)\n",
    "train_dataset_iter = iter(train_dataset)\n",
    "test_dataset_iter = iter(test_dataset)\n",
    "\n",
    "last_checkpoint_saving_time = time()\n",
    "saving_period = 2 * 60  # 2 minutes\n",
    "best_eval_loss = float('inf')"
   ]
  },
  {
   "cell_type": "code",
   "execution_count": 5,
   "id": "faba8de3-04c1-4d11-ada3-11739d95db85",
   "metadata": {},
   "outputs": [
    {
     "name": "stderr",
     "output_type": "stream",
     "text": [
      "Epoch [0/100]: 100%|███████████████████████████████████████████████████████████████████████████████████████████████████████████████████████████████████████████████████| 1/1 [00:02<00:00,  0.39it/s, loss=3.44]\n"
     ]
    }
   ],
   "source": [
    "bar_format = '{l_bar}{bar}| {n_fmt}/{total_fmt} [{elapsed}<{remaining}, ''{rate_noinv_fmt}{postfix}]'\n",
    "progress_bar = tqdm(range(0, 1), bar_format=bar_format)\n",
    "for epoch in progress_bar:\n",
    "    try:\n",
    "        in_tensor, target = next(train_dataset_iter)\n",
    "    except StopIteration:\n",
    "        # Iterator is exhausted\n",
    "        train_dataset_iter = iter(train_dataset)\n",
    "        in_tensor, target = next(train_dataset_iter)\n",
    "    in_tensor = in_tensor.to(device)\n",
    "    target = target.to(device)\n",
    "    logits = model(in_tensor)\n",
    "    loss = compute_loss(logits, target, config.custom_weight_scaling_const, config.scaling_props_range)\n",
    "    optimizer.zero_grad()\n",
    "    loss.backward()\n",
    "    optimizer.step()\n",
    "    progress_bar.set_description(f\"Epoch [{epoch}/{config.max_epoch}]\")\n",
    "    progress_bar.set_postfix(loss=loss.item())\n",
    "    if time() - last_checkpoint_saving_time >= saving_period:\n",
    "        last_checkpoint_saving_time = time()\n",
    "        try:\n",
    "            eval_loss = eval_model(model, test_dataset_iter, config.custom_weight_scaling_const,\n",
    "                                   config.scaling_props_range, device)\n",
    "        except StopIteration:\n",
    "            # Iterator is exhausted\n",
    "            test_dataset_iter = iter(test_dataset)\n",
    "            eval_loss = eval_model(model, test_dataset_iter, config.custom_weight_scaling_const,\n",
    "                                   config.scaling_props_range, device)\n",
    "        if eval_loss < best_eval_loss:\n",
    "            config.save_checkpoint(model, optimizer, loss, epoch)\n",
    "            best_eval_loss = eval_loss"
   ]
  },
  {
   "cell_type": "code",
   "execution_count": 4,
   "id": "008759c6-a420-476b-9689-27e1136bc32b",
   "metadata": {},
   "outputs": [],
   "source": [
    "    try:\n",
    "        in_tensor, target = next(test_dataset_iter)\n",
    "    except StopIteration:\n",
    "        # Iterator is exhausted\n",
    "        test_dataset_iter = iter(test_dataset)\n",
    "        in_tensor, target = next(test_dataset_iter)\n",
    "    in_tensor = in_tensor.to(device)\n",
    "    target = target.to(device)"
   ]
  },
  {
   "cell_type": "code",
   "execution_count": null,
   "id": "e8549ff4-108b-444b-a85a-d168e93d4da9",
   "metadata": {},
   "outputs": [],
   "source": [
    "from lanenet.enet.model_utils import segment_image\n",
    "\n",
    "segment_image(model, in_tensor, device)"
   ]
  }
 ],
 "metadata": {
  "kernelspec": {
   "display_name": "Python 3 (ipykernel)",
   "language": "python",
   "name": "python3"
  },
  "language_info": {
   "codemirror_mode": {
    "name": "ipython",
    "version": 3
   },
   "file_extension": ".py",
   "mimetype": "text/x-python",
   "name": "python",
   "nbconvert_exporter": "python",
   "pygments_lexer": "ipython3",
   "version": "3.9.6"
  }
 },
 "nbformat": 4,
 "nbformat_minor": 5
}
